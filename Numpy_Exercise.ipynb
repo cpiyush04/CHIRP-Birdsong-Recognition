{
  "nbformat": 4,
  "nbformat_minor": 0,
  "metadata": {
    "colab": {
      "provenance": [],
      "gpuType": "T4"
    },
    "kernelspec": {
      "name": "python3",
      "display_name": "Python 3"
    },
    "accelerator": "GPU"
  },
  "cells": [
    {
      "cell_type": "markdown",
      "source": [
        "<h1> ML.AI Week 1 Numpy Practice Notebook</h1>"
      ],
      "metadata": {
        "id": "ndFfgi7ewjBm"
      }
    },
    {
      "cell_type": "markdown",
      "source": [
        "## Importing Libraries"
      ],
      "metadata": {
        "id": "FLCCQQWewQMO"
      }
    },
    {
      "cell_type": "code",
      "metadata": {
        "id": "ipBx5KY2wWr3"
      },
      "source": [
        "# Import NumPy\n",
        "import numpy as np"
      ],
      "execution_count": null,
      "outputs": []
    },
    {
      "cell_type": "markdown",
      "source": [
        "# Basics"
      ],
      "metadata": {
        "id": "i-M87Y3Ywgza"
      }
    },
    {
      "cell_type": "markdown",
      "source": [
        "## Create NumPy Array"
      ],
      "metadata": {
        "id": "oO5gw_3awNAC"
      }
    },
    {
      "cell_type": "code",
      "metadata": {
        "id": "xCRUIOP8wywQ",
        "colab": {
          "base_uri": "https://localhost:8080/"
        },
        "outputId": "471a3b4d-9b0c-42d3-e39e-c007fbafd652"
      },
      "source": [
        "my_list = [0,1,2,3,4,5,6,7,8,9]\n",
        "\n",
        "# Create NumPy array from my_list\n",
        "nparr = np.array(my_list)\n",
        "print(nparr)"
      ],
      "execution_count": null,
      "outputs": [
        {
          "output_type": "stream",
          "name": "stdout",
          "text": [
            "[0 1 2 3 4 5 6 7 8 9]\n"
          ]
        }
      ]
    },
    {
      "cell_type": "code",
      "metadata": {
        "id": "XyVPJpzyw35U",
        "colab": {
          "base_uri": "https://localhost:8080/"
        },
        "outputId": "75b7970a-2448-4eae-f929-c905f83c10a5"
      },
      "source": [
        "# Create NumPy array with numbers from 0 to 9 using arange method\n",
        "nparr = np.arange(0, 10)\n",
        "print(nparr)"
      ],
      "execution_count": null,
      "outputs": [
        {
          "output_type": "stream",
          "name": "stdout",
          "text": [
            "[0 1 2 3 4 5 6 7 8 9]\n"
          ]
        }
      ]
    },
    {
      "cell_type": "markdown",
      "metadata": {
        "id": "x4GjKI9sw-rK"
      },
      "source": [
        "## Universal Functions (ufunc)\n",
        "\n",
        "Arithmetic operations we can perform with numpy arrays:\n",
        "\n",
        "https://docs.scipy.org/doc/scipy/reference/tutorial/basic.html\n",
        "\n",
        "https://numpy.org/doc/stable/reference/ufuncs.html"
      ]
    },
    {
      "cell_type": "code",
      "metadata": {
        "id": "RH2l-nsTw_dd",
        "colab": {
          "base_uri": "https://localhost:8080/"
        },
        "outputId": "720acb5c-e0fb-4e48-f6c6-86d882471637"
      },
      "source": [
        "# ADDING ARRAYS\n",
        "nparr_added = nparr + nparr\n",
        "print(nparr_added)"
      ],
      "execution_count": null,
      "outputs": [
        {
          "output_type": "stream",
          "name": "stdout",
          "text": [
            "[ 0  2  4  6  8 10 12 14 16 18]\n"
          ]
        }
      ]
    },
    {
      "cell_type": "code",
      "metadata": {
        "id": "6M2qhDDOxCKR",
        "colab": {
          "base_uri": "https://localhost:8080/"
        },
        "outputId": "a7bcb928-3a6f-494a-f53f-95e06c47bdd4"
      },
      "source": [
        "# SUBTRACTING ARRAYS\n",
        "nparr_sub= nparr - nparr\n",
        "print(nparr_sub)"
      ],
      "execution_count": null,
      "outputs": [
        {
          "output_type": "stream",
          "name": "stdout",
          "text": [
            "[0 0 0 0 0 0 0 0 0 0]\n"
          ]
        }
      ]
    },
    {
      "cell_type": "code",
      "metadata": {
        "id": "6Q7ui5l5xFFd",
        "colab": {
          "base_uri": "https://localhost:8080/"
        },
        "outputId": "33d3d879-ee6b-486f-c3fb-c76ff51f0edc"
      },
      "source": [
        "# MULTIPLICATING OR DIVISION ARRAYS\n",
        "nparr_mult = nparr * nparr\n",
        "print(nparr_mult)\n",
        "# Note: division zero by zero yields no error, but nan (absence of an object, equal to null)\n",
        "nparr_div = nparr / nparr\n",
        "print(nparr_div)"
      ],
      "execution_count": null,
      "outputs": [
        {
          "output_type": "stream",
          "name": "stdout",
          "text": [
            "[ 0  1  4  9 16 25 36 49 64 81]\n",
            "[nan  1.  1.  1.  1.  1.  1.  1.  1.  1.]\n"
          ]
        },
        {
          "output_type": "stream",
          "name": "stderr",
          "text": [
            "<ipython-input-6-6ca0edd6164f>:5: RuntimeWarning: invalid value encountered in divide\n",
            "  nparr_div = nparr / nparr\n"
          ]
        }
      ]
    },
    {
      "cell_type": "code",
      "metadata": {
        "id": "8y8KOYJgxHfw",
        "colab": {
          "base_uri": "https://localhost:8080/"
        },
        "outputId": "66f47fc7-76e8-470c-819b-2b1bd409ac37"
      },
      "source": [
        "# MULTIPLY BY A SCALARS\n",
        "nparr_esc = nparr * 10\n",
        "print(nparr_esc)"
      ],
      "execution_count": null,
      "outputs": [
        {
          "output_type": "stream",
          "name": "stdout",
          "text": [
            "[ 0 10 20 30 40 50 60 70 80 90]\n"
          ]
        }
      ]
    },
    {
      "cell_type": "code",
      "metadata": {
        "id": "eFU9MjmsxOtS",
        "colab": {
          "base_uri": "https://localhost:8080/"
        },
        "outputId": "7065022e-44f0-4b18-e783-2b3b3594fb11"
      },
      "source": [
        "# ONE DIVIDED BY ZERO\n",
        "# inf signifies infinity for one divided by zero at the very first element\n",
        "nparr_one_div = 1/nparr\n",
        "print(nparr_one_div)"
      ],
      "execution_count": null,
      "outputs": [
        {
          "output_type": "stream",
          "name": "stdout",
          "text": [
            "[       inf 1.         0.5        0.33333333 0.25       0.2\n",
            " 0.16666667 0.14285714 0.125      0.11111111]\n"
          ]
        },
        {
          "output_type": "stream",
          "name": "stderr",
          "text": [
            "<ipython-input-8-acc8e9ccfb51>:3: RuntimeWarning: divide by zero encountered in divide\n",
            "  nparr_one_div = 1/nparr\n"
          ]
        }
      ]
    },
    {
      "cell_type": "code",
      "metadata": {
        "id": "q01cuOPgxRGY",
        "colab": {
          "base_uri": "https://localhost:8080/"
        },
        "outputId": "460fb2d3-a301-4902-c964-0b31e68cc795"
      },
      "source": [
        "# EXPONENT - ARRAYS - Squaring everything - Two options\n",
        "np_arr_exp1 = nparr ** 2\n",
        "print(np_arr_exp1)\n",
        "np_arr_exp2 = np.square(nparr)\n",
        "print(np_arr_exp2)"
      ],
      "execution_count": null,
      "outputs": [
        {
          "output_type": "stream",
          "name": "stdout",
          "text": [
            "[ 0  1  4  9 16 25 36 49 64 81]\n",
            "[ 0  1  4  9 16 25 36 49 64 81]\n"
          ]
        }
      ]
    },
    {
      "cell_type": "code",
      "metadata": {
        "id": "G6PuQ1CgxT4B",
        "colab": {
          "base_uri": "https://localhost:8080/"
        },
        "outputId": "57ce169e-193c-44f9-eb87-2046eed771be"
      },
      "source": [
        "# SQUARE ROOT\n",
        "nparr_sr = np.sqrt(nparr)\n",
        "print(nparr_sr)"
      ],
      "execution_count": null,
      "outputs": [
        {
          "output_type": "stream",
          "name": "stdout",
          "text": [
            "[0.         1.         1.41421356 1.73205081 2.         2.23606798\n",
            " 2.44948974 2.64575131 2.82842712 3.        ]\n"
          ]
        }
      ]
    },
    {
      "cell_type": "code",
      "metadata": {
        "id": "R_G7nQ9dxX3d",
        "colab": {
          "base_uri": "https://localhost:8080/"
        },
        "outputId": "f28b96b6-afd4-4d9b-e5a5-a644ab3f49e8"
      },
      "source": [
        "# EXPONENTIAL WITH ARRAYS\n",
        "np_arr_exp3 = np.exp(nparr)\n",
        "print(np_arr_exp3)"
      ],
      "execution_count": null,
      "outputs": [
        {
          "output_type": "stream",
          "name": "stdout",
          "text": [
            "[1.00000000e+00 2.71828183e+00 7.38905610e+00 2.00855369e+01\n",
            " 5.45981500e+01 1.48413159e+02 4.03428793e+02 1.09663316e+03\n",
            " 2.98095799e+03 8.10308393e+03]\n"
          ]
        }
      ]
    },
    {
      "cell_type": "code",
      "metadata": {
        "id": "QD-uBWKPxZv4",
        "colab": {
          "base_uri": "https://localhost:8080/"
        },
        "outputId": "be46f060-3fc9-41e4-a1b5-77a382e22471"
      },
      "source": [
        "# MAX & MIN\n",
        "nparr_max = np.max(nparr)\n",
        "print(nparr_max)\n",
        "nparr_min = np.min(nparr)\n",
        "print(nparr_min)"
      ],
      "execution_count": null,
      "outputs": [
        {
          "output_type": "stream",
          "name": "stdout",
          "text": [
            "9\n",
            "0\n"
          ]
        }
      ]
    },
    {
      "cell_type": "code",
      "metadata": {
        "id": "TRsuqrGnxb7r",
        "colab": {
          "base_uri": "https://localhost:8080/"
        },
        "outputId": "e70d8175-baec-40a9-b81a-6135500e3287"
      },
      "source": [
        "# TRIGONOMETRIC FUNCTIONS - Passing every element into sine function\n",
        "nparr_sin = np.sin(nparr)\n",
        "print(nparr_sin)"
      ],
      "execution_count": null,
      "outputs": [
        {
          "output_type": "stream",
          "name": "stdout",
          "text": [
            "[ 0.          0.84147098  0.90929743  0.14112001 -0.7568025  -0.95892427\n",
            " -0.2794155   0.6569866   0.98935825  0.41211849]\n"
          ]
        }
      ]
    },
    {
      "cell_type": "code",
      "metadata": {
        "id": "lUE7rfEfxeYH",
        "colab": {
          "base_uri": "https://localhost:8080/"
        },
        "outputId": "a41c19ac-8854-48fe-c5bc-8b860ebcfd6e"
      },
      "source": [
        "# LOGARITHMIC - Note:  the very first one is minus infinity\n",
        "nparr_log = np.log(nparr)\n",
        "print(nparr_log)"
      ],
      "execution_count": null,
      "outputs": [
        {
          "output_type": "stream",
          "name": "stdout",
          "text": [
            "[      -inf 0.         0.69314718 1.09861229 1.38629436 1.60943791\n",
            " 1.79175947 1.94591015 2.07944154 2.19722458]\n"
          ]
        },
        {
          "output_type": "stream",
          "name": "stderr",
          "text": [
            "<ipython-input-14-95468e9a734b>:2: RuntimeWarning: divide by zero encountered in log\n",
            "  nparr_log = np.log(nparr)\n"
          ]
        }
      ]
    },
    {
      "cell_type": "markdown",
      "metadata": {
        "id": "b3t7n_rExqYz"
      },
      "source": [
        "# NUMPY PRACTICE EXERCISES"
      ]
    },
    {
      "cell_type": "markdown",
      "metadata": {
        "id": "kM4gRRsvx25_"
      },
      "source": [
        "## 1 . Creates an array of the integers from 10 to 50"
      ]
    },
    {
      "cell_type": "code",
      "metadata": {
        "id": "0Svcsjnrx4xR",
        "colab": {
          "base_uri": "https://localhost:8080/"
        },
        "outputId": "12b84da4-5b5a-41a4-9bce-cdd8cc594337"
      },
      "source": [
        "arr = np.arange(10,51)\n",
        "print(arr)"
      ],
      "execution_count": null,
      "outputs": [
        {
          "output_type": "stream",
          "name": "stdout",
          "text": [
            "[10 11 12 13 14 15 16 17 18 19 20 21 22 23 24 25 26 27 28 29 30 31 32 33\n",
            " 34 35 36 37 38 39 40 41 42 43 44 45 46 47 48 49 50]\n"
          ]
        }
      ]
    },
    {
      "cell_type": "markdown",
      "metadata": {
        "id": "waLqx2TbyAcb"
      },
      "source": [
        "## 2 . Create an array of the even integers from 10 to 50"
      ]
    },
    {
      "cell_type": "code",
      "metadata": {
        "id": "SMc68WdEx67L",
        "colab": {
          "base_uri": "https://localhost:8080/"
        },
        "outputId": "27d0ec49-8c18-4176-ae6f-6884e31a16ca"
      },
      "source": [
        "arr = np.arange(10,51,2)\n",
        "print(arr)"
      ],
      "execution_count": null,
      "outputs": [
        {
          "output_type": "stream",
          "name": "stdout",
          "text": [
            "[10 12 14 16 18 20 22 24 26 28 30 32 34 36 38 40 42 44 46 48 50]\n"
          ]
        }
      ]
    },
    {
      "cell_type": "markdown",
      "metadata": {
        "id": "aIzm88u1yGpE"
      },
      "source": [
        "\n",
        "\n",
        "## 3. Creates a 3x3 matrix with values ranging from 1 to 9"
      ]
    },
    {
      "cell_type": "code",
      "metadata": {
        "id": "EI9KtMn4yId-",
        "colab": {
          "base_uri": "https://localhost:8080/"
        },
        "outputId": "e707f18d-e605-44c2-f373-5d037f5d1a42"
      },
      "source": [
        "arr = np.arange(1,10)\n",
        "mat = arr.reshape(3,3)\n",
        "print (mat)"
      ],
      "execution_count": null,
      "outputs": [
        {
          "output_type": "stream",
          "name": "stdout",
          "text": [
            "[[1 2 3]\n",
            " [4 5 6]\n",
            " [7 8 9]]\n"
          ]
        }
      ]
    },
    {
      "cell_type": "markdown",
      "metadata": {
        "id": "eOvyPzP7yNHs"
      },
      "source": [
        "## 4. Use NumPy to generate a random number between 0 and 1"
      ]
    },
    {
      "cell_type": "code",
      "metadata": {
        "id": "bEKJCls2yOaC",
        "colab": {
          "base_uri": "https://localhost:8080/"
        },
        "outputId": "cd9f5bf3-c344-4313-ea85-9aeeb099facf"
      },
      "source": [
        "n = np.random.rand(1)\n",
        "print(n)"
      ],
      "execution_count": null,
      "outputs": [
        {
          "output_type": "stream",
          "name": "stdout",
          "text": [
            "[0.36356054]\n"
          ]
        }
      ]
    },
    {
      "cell_type": "markdown",
      "metadata": {
        "id": "NCxHKGsIybmd"
      },
      "source": [
        "\n",
        "\n",
        "## 5. Use NumPy to generate 25 random numbers sampled from a standard normal distribution"
      ]
    },
    {
      "cell_type": "code",
      "metadata": {
        "id": "8uajaz4oyd01",
        "colab": {
          "base_uri": "https://localhost:8080/"
        },
        "outputId": "e9187f99-c438-4351-8e26-5d651f496efc"
      },
      "source": [
        "array = np.random.randn(25)\n",
        "array"
      ],
      "execution_count": null,
      "outputs": [
        {
          "output_type": "execute_result",
          "data": {
            "text/plain": [
              "array([-0.73360213,  0.19310983, -0.66071827, -0.15513777, -1.54846617,\n",
              "        1.9235075 , -0.92142912, -1.20207014, -0.31993446,  0.73340098,\n",
              "        0.50832943,  1.41310859, -0.60283253, -0.36691279, -0.7971315 ,\n",
              "        0.45584156, -1.46490827,  1.04745063,  0.6014883 ,  0.3661791 ,\n",
              "        0.02966415,  0.86862369,  0.92363021, -0.28747845, -2.83090042])"
            ]
          },
          "metadata": {},
          "execution_count": 19
        }
      ]
    },
    {
      "cell_type": "markdown",
      "metadata": {
        "id": "RddxbwyayiVs"
      },
      "source": [
        "## 6. Create a matrix of 100 items spaced equally at 0.01 steps ranged fro 0.01 to 1"
      ]
    },
    {
      "cell_type": "code",
      "metadata": {
        "id": "FzOdZXwRyjsO",
        "colab": {
          "base_uri": "https://localhost:8080/"
        },
        "outputId": "9bc522ef-9506-4cea-b9a9-7927b273468b"
      },
      "source": [
        "array = np.arange(0.01,1.01,0.01).reshape(10,10)\n",
        "# np.arange works with default step value 1\n",
        "array"
      ],
      "execution_count": null,
      "outputs": [
        {
          "output_type": "execute_result",
          "data": {
            "text/plain": [
              "array([[0.01, 0.02, 0.03, 0.04, 0.05, 0.06, 0.07, 0.08, 0.09, 0.1 ],\n",
              "       [0.11, 0.12, 0.13, 0.14, 0.15, 0.16, 0.17, 0.18, 0.19, 0.2 ],\n",
              "       [0.21, 0.22, 0.23, 0.24, 0.25, 0.26, 0.27, 0.28, 0.29, 0.3 ],\n",
              "       [0.31, 0.32, 0.33, 0.34, 0.35, 0.36, 0.37, 0.38, 0.39, 0.4 ],\n",
              "       [0.41, 0.42, 0.43, 0.44, 0.45, 0.46, 0.47, 0.48, 0.49, 0.5 ],\n",
              "       [0.51, 0.52, 0.53, 0.54, 0.55, 0.56, 0.57, 0.58, 0.59, 0.6 ],\n",
              "       [0.61, 0.62, 0.63, 0.64, 0.65, 0.66, 0.67, 0.68, 0.69, 0.7 ],\n",
              "       [0.71, 0.72, 0.73, 0.74, 0.75, 0.76, 0.77, 0.78, 0.79, 0.8 ],\n",
              "       [0.81, 0.82, 0.83, 0.84, 0.85, 0.86, 0.87, 0.88, 0.89, 0.9 ],\n",
              "       [0.91, 0.92, 0.93, 0.94, 0.95, 0.96, 0.97, 0.98, 0.99, 1.  ]])"
            ]
          },
          "metadata": {},
          "execution_count": 20
        }
      ]
    },
    {
      "cell_type": "code",
      "metadata": {
        "id": "yJxrHMO0ylZj",
        "colab": {
          "base_uri": "https://localhost:8080/"
        },
        "outputId": "d0eab2f5-2e8d-4c26-d8e6-ace67c5c272a"
      },
      "source": [
        "# Returning the exact same result as above\n",
        "array"
      ],
      "execution_count": null,
      "outputs": [
        {
          "output_type": "execute_result",
          "data": {
            "text/plain": [
              "array([[0.01, 0.02, 0.03, 0.04, 0.05, 0.06, 0.07, 0.08, 0.09, 0.1 ],\n",
              "       [0.11, 0.12, 0.13, 0.14, 0.15, 0.16, 0.17, 0.18, 0.19, 0.2 ],\n",
              "       [0.21, 0.22, 0.23, 0.24, 0.25, 0.26, 0.27, 0.28, 0.29, 0.3 ],\n",
              "       [0.31, 0.32, 0.33, 0.34, 0.35, 0.36, 0.37, 0.38, 0.39, 0.4 ],\n",
              "       [0.41, 0.42, 0.43, 0.44, 0.45, 0.46, 0.47, 0.48, 0.49, 0.5 ],\n",
              "       [0.51, 0.52, 0.53, 0.54, 0.55, 0.56, 0.57, 0.58, 0.59, 0.6 ],\n",
              "       [0.61, 0.62, 0.63, 0.64, 0.65, 0.66, 0.67, 0.68, 0.69, 0.7 ],\n",
              "       [0.71, 0.72, 0.73, 0.74, 0.75, 0.76, 0.77, 0.78, 0.79, 0.8 ],\n",
              "       [0.81, 0.82, 0.83, 0.84, 0.85, 0.86, 0.87, 0.88, 0.89, 0.9 ],\n",
              "       [0.91, 0.92, 0.93, 0.94, 0.95, 0.96, 0.97, 0.98, 0.99, 1.  ]])"
            ]
          },
          "metadata": {},
          "execution_count": 21
        }
      ]
    },
    {
      "cell_type": "markdown",
      "metadata": {
        "id": "tQVoOsaAyp1X"
      },
      "source": [
        "## 7. Create an array of 20 linearly spaced points between 0 and 1"
      ]
    },
    {
      "cell_type": "code",
      "metadata": {
        "id": "4MtcWJA4yrGl",
        "colab": {
          "base_uri": "https://localhost:8080/"
        },
        "outputId": "d5744cbb-6296-4c13-b1c8-ada9b3b4020a"
      },
      "source": [
        "array = np.linspace(0,1,20)\n",
        "array"
      ],
      "execution_count": null,
      "outputs": [
        {
          "output_type": "execute_result",
          "data": {
            "text/plain": [
              "array([0.        , 0.05263158, 0.10526316, 0.15789474, 0.21052632,\n",
              "       0.26315789, 0.31578947, 0.36842105, 0.42105263, 0.47368421,\n",
              "       0.52631579, 0.57894737, 0.63157895, 0.68421053, 0.73684211,\n",
              "       0.78947368, 0.84210526, 0.89473684, 0.94736842, 1.        ])"
            ]
          },
          "metadata": {},
          "execution_count": 22
        }
      ]
    },
    {
      "cell_type": "markdown",
      "metadata": {
        "id": "ROMflFPMyxX8"
      },
      "source": [
        "# INDEXING & SLICING NOTATION in PYTHON\n",
        "\n",
        "## What does indexing mean in Python?\n",
        "An index refers to a position within an ordered list.\n",
        "\n",
        "## And what about Slicing?\n",
        "Slicing in python means taking elements from one given index to another given index. We pass slice instead of an index like this: [[start:end]]. We can also define the step, like this: [[start:end:step]].\n"
      ]
    },
    {
      "cell_type": "markdown",
      "metadata": {
        "id": "GI3tgye0y4Q_"
      },
      "source": [
        "\n",
        "## Two-Dimensional Array: arr_2_d\n",
        "\n",
        "There are 2 general formats for GRABBING ELEMENTS from a 2-d array (matrix):\n",
        "\n",
        "1. DOUBLE BRACKET FORMAT   \n",
        "\n",
        "      mat[row][column]\n",
        "\n",
        "2. SINGLE BRACKET FORMAT   \n",
        "\n",
        "      mat[row,column]\n",
        "      \n",
        "      w/ comma, this is least prone to error!"
      ]
    },
    {
      "cell_type": "markdown",
      "metadata": {
        "id": "uAaaiIVIzGNW"
      },
      "source": [
        "## Indexing & Slicing Notation (mnemonic):\n",
        "\n",
        "[ row : Column ]\n",
        "\n",
        "### Indexing:\n",
        "\n",
        "[ **Grab just the** ] , [ **and just the** ]\n",
        "\n",
        "### Slicing: (bni)\n",
        "\n",
        "[**Grab all from the : up to the** ] , [ **and all from the : up to the** ]\n",
        "\n",
        "[ **but not including (bni)** ]: [ **but not including (bni)**]"
      ]
    },
    {
      "cell_type": "markdown",
      "metadata": {
        "id": "erYYymH9zfFK"
      },
      "source": [
        "PRACTICING EXERCISES:\n",
        "\n",
        "(for Indexing & Slicing in Python & NumPy)"
      ]
    },
    {
      "cell_type": "code",
      "metadata": {
        "id": "93KjIoWVysto",
        "colab": {
          "base_uri": "https://localhost:8080/"
        },
        "outputId": "f6fdec25-2e73-4f2f-cfd6-6d834208b5b2"
      },
      "source": [
        "# Use this 2-Dimensional Array for this exercises\n",
        "mat = np.arange(1,26).reshape(5,5)\n",
        "mat"
      ],
      "execution_count": null,
      "outputs": [
        {
          "output_type": "execute_result",
          "data": {
            "text/plain": [
              "array([[ 1,  2,  3,  4,  5],\n",
              "       [ 6,  7,  8,  9, 10],\n",
              "       [11, 12, 13, 14, 15],\n",
              "       [16, 17, 18, 19, 20],\n",
              "       [21, 22, 23, 24, 25]])"
            ]
          },
          "metadata": {},
          "execution_count": 23
        }
      ]
    },
    {
      "cell_type": "markdown",
      "metadata": {
        "id": "0SIFJUaTztCI"
      },
      "source": [
        "### 8. Grab element 20  of the arr_2_d array"
      ]
    },
    {
      "cell_type": "code",
      "metadata": {
        "id": "VGcspB0SztmQ",
        "colab": {
          "base_uri": "https://localhost:8080/"
        },
        "outputId": "9752f08b-5bee-4934-a0dc-cbce39628355"
      },
      "source": [
        "mat[3,4]\n",
        "# That is to say:\n",
        "# for row: **Grab just the** forth row,\n",
        "#          it rescues just one element in the forth row:), and\n",
        "# for column: **and just the** fifth column.\n",
        "#             It rescues just one element in fifth column, again:)"
      ],
      "execution_count": null,
      "outputs": [
        {
          "output_type": "execute_result",
          "data": {
            "text/plain": [
              "20"
            ]
          },
          "metadata": {},
          "execution_count": 24
        }
      ]
    },
    {
      "cell_type": "markdown",
      "metadata": {
        "id": "mU7f5am2z0jZ"
      },
      "source": [
        "### 9. Grab items 2, 7, 12 of the arr_2_d array"
      ]
    },
    {
      "cell_type": "code",
      "metadata": {
        "id": "g3QBOE6vz2uR",
        "colab": {
          "base_uri": "https://localhost:8080/"
        },
        "outputId": "b60607bd-f285-403e-8256-ebe56c614f6f"
      },
      "source": [
        "mat[0:3,1]\n",
        "# That is to say:\n",
        "#\n",
        "# for row: **Grab all from the** begining,\n",
        "#          **up to the** forth row (but not including),\n",
        "#          it rescues 3 rows in a row,\n",
        "#\n",
        "# for column: **and all from the** second\n",
        "#             **up to the** 3ª Column (bni).\n",
        "#             It rescues just one column, the second one:)"
      ],
      "execution_count": null,
      "outputs": [
        {
          "output_type": "execute_result",
          "data": {
            "text/plain": [
              "array([ 2,  7, 12])"
            ]
          },
          "metadata": {},
          "execution_count": 25
        }
      ]
    },
    {
      "cell_type": "markdown",
      "metadata": {
        "id": "AtAhD17G0nH9"
      },
      "source": [
        "### 10. Grab the last row of the arr_2_d array"
      ]
    },
    {
      "cell_type": "code",
      "metadata": {
        "id": "yHEr1Vthz5Fh",
        "colab": {
          "base_uri": "https://localhost:8080/"
        },
        "outputId": "93845067-6489-42e5-eaed-17e775ae538f"
      },
      "source": [
        "mat[4,]\n",
        "# That is to say:\n",
        "#\n",
        "# for row: **Grab just the** fifth row,\n",
        "#          it rescues just the last row:),\n",
        "#\n",
        "# for column: **and all from the** beginning **up to the** end of\n",
        "#             the columns(:). It rescues all the columns:)"
      ],
      "execution_count": null,
      "outputs": [
        {
          "output_type": "execute_result",
          "data": {
            "text/plain": [
              "array([21, 22, 23, 24, 25])"
            ]
          },
          "metadata": {},
          "execution_count": 26
        }
      ]
    },
    {
      "cell_type": "markdown",
      "metadata": {
        "id": "V4QJvxly01mZ"
      },
      "source": [
        "### 11. Get the sum of all the values, column values and row values in arr_2_d array"
      ]
    },
    {
      "cell_type": "code",
      "metadata": {
        "id": "r4C7rdUn02Lx",
        "colab": {
          "base_uri": "https://localhost:8080/"
        },
        "outputId": "8b5fc866-768a-4a66-dd19-20d5cad5cabb"
      },
      "source": [
        "# Using NumPy and pass array as parameter\n",
        "sum_all = np.sum(mat)\n",
        "print(sum_all)\n",
        "sum_col = np.sum(mat,0)\n",
        "print(sum_col)\n",
        "sum_row = np.sum(mat,1)\n",
        "print(sum_row)\n",
        "# OR\n",
        "# Use the method of the object array itself directly\n"
      ],
      "execution_count": null,
      "outputs": [
        {
          "output_type": "stream",
          "name": "stdout",
          "text": [
            "325\n",
            "[55 60 65 70 75]\n",
            "[ 15  40  65  90 115]\n"
          ]
        }
      ]
    },
    {
      "cell_type": "code",
      "metadata": {
        "id": "j_UbfWuO038O"
      },
      "source": [
        "\n",
        "# axis=0 -> row -> so the result is placed in a row\n",
        "# (then it is a columns' sum)\n",
        "\n",
        "# axis=1 -> columns -> so the result is placed in a column\n",
        "# (then it is a row's sum:)\n",
        "\n",
        "\n",
        "# axis=0 -> row -> so the result is placed in a row\n",
        "# (then it is a columns' sum)\n",
        "\n",
        "# axis=1 -> columns -> so the result is placed in a column\n",
        "# (then it is a row's sum:)"
      ],
      "execution_count": null,
      "outputs": []
    },
    {
      "cell_type": "markdown",
      "metadata": {
        "id": "rfxf2izz1FGw"
      },
      "source": [
        "### 12. Get the standard diviation of the values in arr_2_d array"
      ]
    },
    {
      "cell_type": "code",
      "metadata": {
        "id": "om6NxGEH1F8k",
        "colab": {
          "base_uri": "https://localhost:8080/"
        },
        "outputId": "0813f28d-9ca4-4eab-9292-17bda7a4ec27"
      },
      "source": [
        "std_dev = np.std(mat)\n",
        "print(std_dev)"
      ],
      "execution_count": null,
      "outputs": [
        {
          "output_type": "stream",
          "name": "stdout",
          "text": [
            "7.211102550927978\n"
          ]
        }
      ]
    },
    {
      "cell_type": "code",
      "source": [
        "# Returning the exact same result as above\n",
        "std_dev"
      ],
      "metadata": {
        "id": "bnICQsGXYbm7",
        "colab": {
          "base_uri": "https://localhost:8080/"
        },
        "outputId": "640afc3e-dbcd-4870-9957-d5f75682aec8"
      },
      "execution_count": null,
      "outputs": [
        {
          "output_type": "execute_result",
          "data": {
            "text/plain": [
              "7.211102550927978"
            ]
          },
          "metadata": {},
          "execution_count": 30
        }
      ]
    },
    {
      "cell_type": "markdown",
      "metadata": {
        "id": "uUFmB7et1ezJ"
      },
      "source": [
        "# CONDITIONAL SELECTION"
      ]
    },
    {
      "cell_type": "markdown",
      "metadata": {
        "id": "-W_rKpYA1kJr"
      },
      "source": [
        "### SUMMARY\n",
        "\n",
        "1. Get an array and perform a comparison operator on it; it will return a boolean array;\n",
        "2. Use that boolean array to index a conditional selection."
      ]
    },
    {
      "cell_type": "code",
      "metadata": {
        "id": "MvAI1M7F1kpU",
        "colab": {
          "base_uri": "https://localhost:8080/"
        },
        "outputId": "36c44a23-e2a2-4ecb-8365-60a9de2ba1ed"
      },
      "source": [
        "# Given that Array to test Conditional Selection\n",
        "arr = np.arange(1,11)\n",
        "print(arr)"
      ],
      "execution_count": null,
      "outputs": [
        {
          "output_type": "stream",
          "name": "stdout",
          "text": [
            "[ 1  2  3  4  5  6  7  8  9 10]\n"
          ]
        }
      ]
    },
    {
      "cell_type": "code",
      "metadata": {
        "id": "qmfpQJae1oLy",
        "colab": {
          "base_uri": "https://localhost:8080/"
        },
        "outputId": "c646d82b-8d55-43dc-b3ca-4584e81ab580"
      },
      "source": [
        "# Perform the comparison and grab the result (booleans array)\n",
        "bool_arr = arr < 5\n",
        "print(bool_arr)"
      ],
      "execution_count": null,
      "outputs": [
        {
          "output_type": "stream",
          "name": "stdout",
          "text": [
            "[ True  True  True  True False False False False False False]\n"
          ]
        }
      ]
    },
    {
      "cell_type": "code",
      "metadata": {
        "id": "orkXjA9z1qoh",
        "colab": {
          "base_uri": "https://localhost:8080/"
        },
        "outputId": "5d1aa03c-f088-42ef-ba39-0b3d816f21c4"
      },
      "source": [
        "# I can now use that booleans array to actualy index or **conditionally select** elements\n",
        "#  from the original array (arr); then only return instances where boolean array is true.\n",
        "result_arr = arr[bool_arr]\n",
        "print(result_arr)"
      ],
      "execution_count": null,
      "outputs": [
        {
          "output_type": "stream",
          "name": "stdout",
          "text": [
            "[1 2 3 4]\n"
          ]
        }
      ]
    },
    {
      "cell_type": "markdown",
      "metadata": {
        "id": "ZgZP1kSz1vOa"
      },
      "source": [
        "### In Just One line of code. Just Awesome!"
      ]
    },
    {
      "cell_type": "code",
      "metadata": {
        "id": "-4Qg1Wbq1vlC",
        "colab": {
          "base_uri": "https://localhost:8080/"
        },
        "outputId": "5b0f896b-a18f-4ed0-d017-bf9e7092528a"
      },
      "source": [
        "# Returning the same result as above\n",
        "result_arr = arr[arr<5]\n",
        "print(result_arr)"
      ],
      "execution_count": null,
      "outputs": [
        {
          "output_type": "stream",
          "name": "stdout",
          "text": [
            "[1 2 3 4]\n"
          ]
        }
      ]
    },
    {
      "cell_type": "markdown",
      "metadata": {
        "id": "cTfCIaC5177t"
      },
      "source": [
        "### Notes:\n",
        "\n",
        "Getting an array and using a comparison operator on it will actually return a boolean array (meaning an array of all boolean values).\n",
        "\n",
        "Then we can use that boolean array to actually index or conditionally select elements from the original array where this happened to true.\n",
        "\n",
        "So only return instances where that boolean array is true, and more commonly, instead of sorting of splitting this up into 2 steps, we would actually do this all in one step (see code above).\n",
        "\n",
        "We would say, an array, and in brackets, instead of the array, we would pass in the conditional statement (arr[arr<5]), and that would return the same answer as the 2-step method and this is the sort of syntax notation we're going to be using all the time as far as conditional selection is an issue.\n",
        "\n",
        "It's kind of weird to pass the variable itself as a parameter to the indexer brackets, but that's how it works!\n",
        "\n",
        "THIS IS THE SORT OF SYNTAX NOTATION YOU WOULD GET USED SPECIALLY WHEN WE MOVE ON TO PANDAS!"
      ]
    },
    {
      "cell_type": "markdown",
      "source": [
        "## Advanced Questions"
      ],
      "metadata": {
        "id": "9M5JG6S1ZL0e"
      }
    },
    {
      "cell_type": "markdown",
      "source": [
        "### 13. Declare a 8x8 matrix and fill it with a checkerboard (or chess) pattern."
      ],
      "metadata": {
        "id": "11amIBueZOZY"
      }
    },
    {
      "cell_type": "code",
      "source": [
        "array = np.zeros((8,8),dtype = int)\n",
        "array[::2,::2] = 1\n",
        "array[1::2,1::2] = 1\n",
        "print(\"pattern\",array)"
      ],
      "metadata": {
        "id": "LjR0lnK_ZNXr",
        "colab": {
          "base_uri": "https://localhost:8080/"
        },
        "outputId": "947acc3e-bf44-4cf6-f976-1635ae134f51"
      },
      "execution_count": null,
      "outputs": [
        {
          "output_type": "stream",
          "name": "stdout",
          "text": [
            "pattern [[1 0 1 0 1 0 1 0]\n",
            " [0 1 0 1 0 1 0 1]\n",
            " [1 0 1 0 1 0 1 0]\n",
            " [0 1 0 1 0 1 0 1]\n",
            " [1 0 1 0 1 0 1 0]\n",
            " [0 1 0 1 0 1 0 1]\n",
            " [1 0 1 0 1 0 1 0]\n",
            " [0 1 0 1 0 1 0 1]]\n"
          ]
        }
      ]
    },
    {
      "cell_type": "markdown",
      "source": [
        "### 14. Declare a 10x10 array with random values and find the minimum and maximum values."
      ],
      "metadata": {
        "id": "tmNGX1c6ZRxx"
      }
    },
    {
      "cell_type": "code",
      "source": [
        "array = np.random.randint(0,10,(10,10))\n",
        "print(\"array\",array)\n",
        "min = np.min(array)\n",
        "max = np.max(array)\n",
        "print(\"min:\",min)\n",
        "print(\"max:\",max)"
      ],
      "metadata": {
        "id": "Fx9enDeLZXYl",
        "colab": {
          "base_uri": "https://localhost:8080/"
        },
        "outputId": "5d90c2c3-5903-4370-d1d1-2a0d3cdb7a5d"
      },
      "execution_count": null,
      "outputs": [
        {
          "output_type": "stream",
          "name": "stdout",
          "text": [
            "array [[1 3 3 5 3 5 7 8 5 2]\n",
            " [2 1 9 4 0 7 2 0 6 5]\n",
            " [8 0 6 5 6 8 3 4 2 5]\n",
            " [5 1 1 8 5 2 5 8 3 3]\n",
            " [7 8 8 3 9 3 9 5 6 6]\n",
            " [3 9 7 8 3 5 1 8 5 7]\n",
            " [1 2 3 8 6 9 5 9 9 4]\n",
            " [9 5 5 0 0 5 9 5 0 9]\n",
            " [1 5 4 4 3 1 4 7 6 1]\n",
            " [3 6 5 6 6 2 5 8 7 2]]\n",
            "min: 0\n",
            "max: 9\n"
          ]
        }
      ]
    },
    {
      "cell_type": "markdown",
      "source": [
        "### 15. Create a random 10x2 matrix. Considering each pair represents an (x,y) co-ordinate in 2-D, obtain a matrix which contains (r,theta) in polar co-ordinate system.\n",
        "\n"
      ],
      "metadata": {
        "id": "4kHMCyp0ZZAJ"
      }
    },
    {
      "cell_type": "code",
      "source": [
        "mat = np.random.randint(0,10,(10,2))\n",
        "mat"
      ],
      "metadata": {
        "id": "KjuZwDO_ZaEU",
        "colab": {
          "base_uri": "https://localhost:8080/"
        },
        "outputId": "0afe7de0-c2e9-4c22-f1e2-65ccff7344bc"
      },
      "execution_count": null,
      "outputs": [
        {
          "output_type": "execute_result",
          "data": {
            "text/plain": [
              "array([[6, 8],\n",
              "       [9, 4],\n",
              "       [8, 2],\n",
              "       [8, 9],\n",
              "       [1, 9],\n",
              "       [0, 7],\n",
              "       [8, 8],\n",
              "       [6, 6],\n",
              "       [2, 4],\n",
              "       [8, 5]])"
            ]
          },
          "metadata": {},
          "execution_count": 37
        }
      ]
    },
    {
      "cell_type": "code",
      "source": [
        "# using linalg.norm from numpy to calc. the magnitude\n",
        "r = np.linalg.norm(mat, axis=1)\n",
        "print(\"norm_arr\",r.reshape(10,1))\n",
        "theta = np.arctan2(mat[:,1],mat[:,0])\n",
        "print(\"theta_arr\",theta.reshape(10,1))\n",
        "polar_matrix = np.column_stack((r, theta))\n",
        "print(\"polar\",polar_matrix)"
      ],
      "metadata": {
        "colab": {
          "base_uri": "https://localhost:8080/"
        },
        "id": "8ElxgJ1AXeZy",
        "outputId": "4a611f53-9b9f-4e02-c8fd-56c17c2c06c6"
      },
      "execution_count": null,
      "outputs": [
        {
          "output_type": "stream",
          "name": "stdout",
          "text": [
            "norm_arr [[10.        ]\n",
            " [ 9.8488578 ]\n",
            " [ 8.24621125]\n",
            " [12.04159458]\n",
            " [ 9.05538514]\n",
            " [ 7.        ]\n",
            " [11.3137085 ]\n",
            " [ 8.48528137]\n",
            " [ 4.47213595]\n",
            " [ 9.43398113]]\n",
            "theta_arr [[0.92729522]\n",
            " [0.41822433]\n",
            " [0.24497866]\n",
            " [0.84415399]\n",
            " [1.46013911]\n",
            " [1.57079633]\n",
            " [0.78539816]\n",
            " [0.78539816]\n",
            " [1.10714872]\n",
            " [0.55859932]]\n",
            "polar [[10.          0.92729522]\n",
            " [ 9.8488578   0.41822433]\n",
            " [ 8.24621125  0.24497866]\n",
            " [12.04159458  0.84415399]\n",
            " [ 9.05538514  1.46013911]\n",
            " [ 7.          1.57079633]\n",
            " [11.3137085   0.78539816]\n",
            " [ 8.48528137  0.78539816]\n",
            " [ 4.47213595  1.10714872]\n",
            " [ 9.43398113  0.55859932]]\n"
          ]
        }
      ]
    },
    {
      "cell_type": "markdown",
      "source": [
        "### 16. Multiply a 5x3 matrix by a 3x2 matrix (real matrix product)"
      ],
      "metadata": {
        "id": "D9zS4ibLZj56"
      }
    },
    {
      "cell_type": "code",
      "source": [
        "mat1 = np.arange(1,16).reshape(5,3)\n",
        "mat2 = np.arange(1,7).reshape(3,2)\n",
        "mat_mul = np.dot(mat1,mat2)\n",
        "mat_mul"
      ],
      "metadata": {
        "id": "YGprtzjBZmf0",
        "colab": {
          "base_uri": "https://localhost:8080/"
        },
        "outputId": "09e1f1a4-e454-4c06-ef0a-62113239ad0c"
      },
      "execution_count": null,
      "outputs": [
        {
          "output_type": "execute_result",
          "data": {
            "text/plain": [
              "array([[ 22,  28],\n",
              "       [ 49,  64],\n",
              "       [ 76, 100],\n",
              "       [103, 136],\n",
              "       [130, 172]])"
            ]
          },
          "metadata": {},
          "execution_count": 39
        }
      ]
    },
    {
      "cell_type": "markdown",
      "source": [
        "## Broadcasting"
      ],
      "metadata": {
        "id": "aQF05wGvZv0I"
      }
    },
    {
      "cell_type": "markdown",
      "source": [
        "Numpy use a powerful idea called broadcasting. The best thing is that it is also simple to use. Example, we will execute the following in the cell below.\n",
        "```\n",
        "x = np.arange(4)\n",
        "print(x)\n",
        "y = x + 3\n",
        "print(y)\n",
        "```\n",
        "Did you notice how 3 got added to every element of x! This is refered to as broadcasting. The concept extends when you wish to add a vector to every row (or column) of a matrix."
      ],
      "metadata": {
        "id": "aGfbP1-oZqzq"
      }
    },
    {
      "cell_type": "code",
      "source": [
        "x = np.arange(4)\n",
        "print(x)\n",
        "y = x + 3\n",
        "print(y)"
      ],
      "metadata": {
        "id": "ZeC8lOWsZrI7",
        "colab": {
          "base_uri": "https://localhost:8080/"
        },
        "outputId": "f439b2ad-15f7-44e8-8719-78b796489edc"
      },
      "execution_count": null,
      "outputs": [
        {
          "output_type": "stream",
          "name": "stdout",
          "text": [
            "[0 1 2 3]\n",
            "[3 4 5 6]\n"
          ]
        }
      ]
    },
    {
      "cell_type": "markdown",
      "source": [
        "Can we demonstrate a computational time benefit of broadcasting? For this we will need to measure time. No worries, let's welcome the timeit package."
      ],
      "metadata": {
        "id": "em_C30voZ7H0"
      }
    },
    {
      "cell_type": "code",
      "source": [
        "# importing the required module\n",
        "import timeit\n",
        "\n",
        "# code snippet to be executed only once\n",
        "test_setup = \"import numpy as np\"\n",
        "\n",
        "# code snippet to be executed only once\n",
        "test_code_1 = '''\n",
        "def example_function():\n",
        "    return np.arange(1000)\n",
        "'''\n",
        "num_runs = 1000\n",
        "time_elapsed = timeit.timeit(setup=test_setup, stmt = test_code_1, number=num_runs)\n",
        "print('Time taken: ' + str(time_elapsed/num_runs))"
      ],
      "metadata": {
        "id": "yG3VVQ2VZ7cQ",
        "colab": {
          "base_uri": "https://localhost:8080/"
        },
        "outputId": "86122453-266f-4390-b001-71162606da99"
      },
      "execution_count": null,
      "outputs": [
        {
          "output_type": "stream",
          "name": "stdout",
          "text": [
            "Time taken: 1.6461100000242367e-07\n"
          ]
        }
      ]
    },
    {
      "cell_type": "markdown",
      "source": [
        "A bottlenecks in code is loops, this holds especially for python code. Compared to languages like C/C++ , Python loops are relatively slower. One reason for this is the dynamically typed nature of Python.\n",
        "\n",
        "Python interpreter first goes line-by-line through the code, compiles the code into bytecode, which is then executed to run the program. Let's consider the code contains a section where it has to loop over a list. Being dynamically typed, Python has no idea what type of objects are present in the list (whether it's an integer, a string or a float). Further, this information is basically stored in every object itself, and Python can not know this in advance before actually going through the list. Hence, at each iteration python has to perform a bunch of checks every iteration like determining the type of variable, resolving it's scope, checking for any invalid operations etc.\n",
        "\n",
        "Contrasting this with C, arrays are allowed to be consisting of only one data type, which the compiler knows well ahead of time. This opens up possibility of many optimizations which are not possible in Python. For this reason, loops in python are often much slower than in C, and nested loops is where things can really get slow."
      ],
      "metadata": {
        "id": "CZDIakVraF0R"
      }
    },
    {
      "cell_type": "markdown",
      "source": [
        "### 17. In the below cell, define two random vectors x and y, each of size (1000x1). Do an elementwise multiplication of these vectors to get a new vector z. Try two approaches for this: (a) writing a function which uses a loop, (b) writing a function which the \"star\" numpy operator. Print the time for approach (a) and (b)."
      ],
      "metadata": {
        "id": "iQMahDMIaQgF"
      }
    },
    {
      "cell_type": "code",
      "source": [
        "# Using LOOPS\n",
        "x = np.random.randint(1,10,(1000,1))\n",
        "y = np.random.randint(1,10,(1000,1))\n",
        "\n",
        "test_code_2 = '''\n",
        "def loop(x, y):\n",
        "    for i in range(len(x)):\n",
        "        mul[i] = x[i] * y[i]\n",
        "    return mul\n",
        "'''\n",
        "num_runs = 1000\n",
        "time_elapsed = timeit.timeit(setup=test_setup, stmt = test_code_2, number=num_runs)\n",
        "print('Time taken using Loops: ' + str(time_elapsed/num_runs))"
      ],
      "metadata": {
        "id": "MKbaayVzaE8x",
        "colab": {
          "base_uri": "https://localhost:8080/"
        },
        "outputId": "2a51f212-106d-4770-b8ce-b7018632596d"
      },
      "execution_count": null,
      "outputs": [
        {
          "output_type": "stream",
          "name": "stdout",
          "text": [
            "Time taken using Loops: 1.2929899997971007e-07\n"
          ]
        }
      ]
    },
    {
      "cell_type": "code",
      "source": [
        "# Using STAR_OP\n",
        "x = np.random.randint(1,10,(1000,1))\n",
        "y = np.random.randint(1,10,(1000,1))\n",
        "\n",
        "test_code_3 = '''\n",
        "def mul(x,y):\n",
        "  result = x * y\n",
        "  return result\n",
        "'''\n",
        "num_runs = 1000\n",
        "time_elapsed = timeit.timeit(setup=test_setup, stmt = test_code_3, number=num_runs)\n",
        "print('Time taken using star operator: ' + str(time_elapsed/num_runs))"
      ],
      "metadata": {
        "colab": {
          "base_uri": "https://localhost:8080/"
        },
        "id": "SW8GKTTflW5q",
        "outputId": "a2462cc4-f3bc-4714-85d1-9aed2b4c32a6"
      },
      "execution_count": null,
      "outputs": [
        {
          "output_type": "stream",
          "name": "stdout",
          "text": [
            "Time taken using star operator: 1.252299999805473e-07\n"
          ]
        }
      ]
    },
    {
      "cell_type": "markdown",
      "source": [
        "# Bonus Question"
      ],
      "metadata": {
        "id": "4-lwm_mrag6f"
      }
    },
    {
      "cell_type": "markdown",
      "source": [
        "### 18. Create a 2-D grid between (-10,10) in x-axis and (-10,10) in y-axis, with step size of .01. Generate a 2-D gaussian function on this grid, with mean = (0,0), and co-variance being an identity matrix. Plot the 2-D Gaussian using plot3D() function."
      ],
      "metadata": {
        "id": "LtYkO8mSaSr2"
      }
    },
    {
      "cell_type": "code",
      "source": [
        "x = np.arange(-10,10,0.01)\n",
        "y = np.arange(-10,10,0.01)\n",
        "X,Y = np.meshgrid(x,y)\n",
        "mean = [0, 0]\n",
        "covariance = np.eye(2)\n",
        "constant = 1 / (2 * np.pi *1)\n",
        "# here determinant for covariance is 1 and inverse is covariance matrix itself\n",
        "G = constant * np.exp(-0.5 * np.sum((np.dot(np.column_stack((X.flatten(), Y.flatten())) - mean, covariance) * (np.column_stack((X.flatten(), Y.flatten())) - mean)), axis=1))\n",
        "G = G.reshape(np.shape(X))\n",
        "np.shape(G)"
      ],
      "metadata": {
        "id": "i4p24HCMafpd",
        "colab": {
          "base_uri": "https://localhost:8080/"
        },
        "outputId": "21b849f8-5788-45c6-ecfb-abe1ba9c1017"
      },
      "execution_count": null,
      "outputs": [
        {
          "output_type": "execute_result",
          "data": {
            "text/plain": [
              "(2000, 2000)"
            ]
          },
          "metadata": {},
          "execution_count": 5
        }
      ]
    },
    {
      "cell_type": "code",
      "source": [
        "# for plotting 2d function on a 3D plot, we use matplotlib\n",
        "import matplotlib.pyplot as plt\n",
        "\n",
        "ax = plt.figure().add_subplot(projection='3d')\n",
        "ax.plot_surface(X, Y, G, cmap='viridis')\n",
        "ax.set_xlabel('X-axis')\n",
        "ax.set_ylabel('Y-axis')\n",
        "ax.set_zlabel('Z-axis')\n",
        "ax.set_title('2D Gaussian Function')\n",
        "\n",
        "# Show the plot\n",
        "plt.show()\n"
      ],
      "metadata": {
        "id": "uPD71s43RgG0",
        "colab": {
          "base_uri": "https://localhost:8080/",
          "height": 438
        },
        "outputId": "16a9007e-7778-4f45-9bf0-0dd80ecb7607"
      },
      "execution_count": null,
      "outputs": [
        {
          "output_type": "display_data",
          "data": {
            "text/plain": [
              "<Figure size 640x480 with 1 Axes>"
            ],
            "image/png": "[encoded data removed]"
          },
          "metadata": {}
        }
      ]
    },
    {
      "cell_type": "code",
      "source": [],
      "metadata": {
        "id": "3tBiGditTuSy"
      },
      "execution_count": null,
      "outputs": []
    }
  ]
}